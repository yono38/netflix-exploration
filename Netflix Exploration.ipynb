{
 "cells": [
  {
   "cell_type": "markdown",
   "metadata": {},
   "source": [
    "# Netflix Exploration\n",
    "This notebook is meant to explore the trend as we move from the weekly episode model into the \"all at once\" release model. What genres have proven most successful with this model? How does one keep a viewer onboard without spacing out shows at one time?"
   ]
  },
  {
   "cell_type": "code",
   "execution_count": 10,
   "metadata": {
    "collapsed": false
   },
   "outputs": [
    {
     "data": {
      "text/plain": [
       "'0.19.2'"
      ]
     },
     "execution_count": 10,
     "metadata": {},
     "output_type": "execute_result"
    }
   ],
   "source": [
    "import pandas as pd\n",
    "pd.__version__"
   ]
  },
  {
   "cell_type": "code",
   "execution_count": 11,
   "metadata": {
    "collapsed": false
   },
   "outputs": [],
   "source": [
    "def import_csv(filename, category):\n",
    "    df = pd.read_csv(filename).dropna()\n",
    "    # Set Category column\n",
    "    df['Category'] = category\n",
    "    # Convert Premiere to a datetime\n",
    "    df['Premiere'] = pd.to_datetime(df['Premiere'])\n",
    "    # Clean up status name\n",
    "    df['Status'] = df['Status'].str.replace(r\"Renewed.*\", \"Renewed\")\n",
    "    df['Status'] = df['Status'].str.replace(r\".*to premiere.*\", \"Renewed\")\n",
    "    df['Status'] = df['Status'].str.replace(r\"Pending.*\", \"Pending\")\n",
    "    df['Status'] = df['Status'].str.replace(r\"Ended.*\", \"Ended\")\n",
    "    return df"
   ]
  },
  {
   "cell_type": "code",
   "execution_count": 12,
   "metadata": {
    "collapsed": false
   },
   "outputs": [],
   "source": [
    "comedy = import_csv('comedy.csv', 'Comedy')\n",
    "drama = import_csv('drama.csv', 'Drama')\n",
    "docuseries = import_csv('docuseries.csv', 'Documentary')\n",
    "kids_animated = import_csv('kids_animated.csv', 'Kids')\n",
    "kids_liveaction = import_csv('kids_liveaction.csv', 'Kids')"
   ]
  },
  {
   "cell_type": "code",
   "execution_count": 13,
   "metadata": {
    "collapsed": false
   },
   "outputs": [
    {
     "data": {
      "text/html": [
       "<div>\n",
       "<table border=\"1\" class=\"dataframe\">\n",
       "  <thead>\n",
       "    <tr style=\"text-align: right;\">\n",
       "      <th></th>\n",
       "      <th>Category</th>\n",
       "      <th>Genre</th>\n",
       "      <th>Length</th>\n",
       "      <th>Premiere</th>\n",
       "      <th>Seasons</th>\n",
       "      <th>Status</th>\n",
       "      <th>Title</th>\n",
       "    </tr>\n",
       "  </thead>\n",
       "  <tbody>\n",
       "    <tr>\n",
       "      <th>0</th>\n",
       "      <td>Comedy</td>\n",
       "      <td>Animated sitcom</td>\n",
       "      <td>25–26 min.</td>\n",
       "      <td>2014-08-22</td>\n",
       "      <td>3 seasons, 36 episodes</td>\n",
       "      <td>Renewed</td>\n",
       "      <td>BoJack Horseman</td>\n",
       "    </tr>\n",
       "    <tr>\n",
       "      <th>1</th>\n",
       "      <td>Comedy</td>\n",
       "      <td>Comedy</td>\n",
       "      <td>23–36 min.</td>\n",
       "      <td>2015-03-06</td>\n",
       "      <td>2 seasons, 26 episodes</td>\n",
       "      <td>Renewed</td>\n",
       "      <td>Unbreakable Kimmy Schmidt</td>\n",
       "    </tr>\n",
       "    <tr>\n",
       "      <th>2</th>\n",
       "      <td>Comedy</td>\n",
       "      <td>Comedy-drama</td>\n",
       "      <td>25–35 min.</td>\n",
       "      <td>2015-05-08</td>\n",
       "      <td>2 seasons, 26 episodes</td>\n",
       "      <td>Renewed</td>\n",
       "      <td>Grace and Frankie</td>\n",
       "    </tr>\n",
       "    <tr>\n",
       "      <th>3</th>\n",
       "      <td>Comedy</td>\n",
       "      <td>Satirical comedy</td>\n",
       "      <td>27–30 min.</td>\n",
       "      <td>2015-07-31</td>\n",
       "      <td>1 season, 8 episodes</td>\n",
       "      <td>Renewed</td>\n",
       "      <td>Wet Hot American Summer: First Day of Camp</td>\n",
       "    </tr>\n",
       "    <tr>\n",
       "      <th>4</th>\n",
       "      <td>Comedy</td>\n",
       "      <td>Comedy-drama</td>\n",
       "      <td>26–33 min.</td>\n",
       "      <td>2015-11-06</td>\n",
       "      <td>1 season, 10 episodes</td>\n",
       "      <td>Renewed</td>\n",
       "      <td>Master of None</td>\n",
       "    </tr>\n",
       "  </tbody>\n",
       "</table>\n",
       "</div>"
      ],
      "text/plain": [
       "  Category             Genre      Length   Premiere                 Seasons  \\\n",
       "0   Comedy   Animated sitcom  25–26 min. 2014-08-22  3 seasons, 36 episodes   \n",
       "1   Comedy            Comedy  23–36 min. 2015-03-06  2 seasons, 26 episodes   \n",
       "2   Comedy      Comedy-drama  25–35 min. 2015-05-08  2 seasons, 26 episodes   \n",
       "3   Comedy  Satirical comedy  27–30 min. 2015-07-31    1 season, 8 episodes   \n",
       "4   Comedy      Comedy-drama  26–33 min. 2015-11-06   1 season, 10 episodes   \n",
       "\n",
       "    Status                                       Title  \n",
       "0  Renewed                             BoJack Horseman  \n",
       "1  Renewed                   Unbreakable Kimmy Schmidt  \n",
       "2  Renewed                           Grace and Frankie  \n",
       "3  Renewed  Wet Hot American Summer: First Day of Camp  \n",
       "4  Renewed                              Master of None  "
      ]
     },
     "execution_count": 13,
     "metadata": {},
     "output_type": "execute_result"
    }
   ],
   "source": [
    "netflix = pd.concat([comedy, drama, docuseries, kids_animated, kids_liveaction])\n",
    "netflix.head()"
   ]
  },
  {
   "cell_type": "code",
   "execution_count": 23,
   "metadata": {
    "collapsed": false
   },
   "outputs": [
    {
     "data": {
      "text/html": [
       "<div>\n",
       "<table border=\"1\" class=\"dataframe\">\n",
       "  <thead>\n",
       "    <tr style=\"text-align: right;\">\n",
       "      <th></th>\n",
       "      <th>Category</th>\n",
       "      <th>Genre</th>\n",
       "      <th>Length</th>\n",
       "      <th>Premiere</th>\n",
       "      <th>Seasons</th>\n",
       "      <th>Status</th>\n",
       "      <th>Title</th>\n",
       "      <th>PremiereYear</th>\n",
       "    </tr>\n",
       "  </thead>\n",
       "  <tbody>\n",
       "    <tr>\n",
       "      <th>0</th>\n",
       "      <td>Comedy</td>\n",
       "      <td>Animated sitcom</td>\n",
       "      <td>25–26 min.</td>\n",
       "      <td>2014-08-22</td>\n",
       "      <td>3 seasons, 36 episodes</td>\n",
       "      <td>Renewed</td>\n",
       "      <td>BoJack Horseman</td>\n",
       "      <td>2014</td>\n",
       "    </tr>\n",
       "    <tr>\n",
       "      <th>1</th>\n",
       "      <td>Comedy</td>\n",
       "      <td>Comedy</td>\n",
       "      <td>23–36 min.</td>\n",
       "      <td>2015-03-06</td>\n",
       "      <td>2 seasons, 26 episodes</td>\n",
       "      <td>Renewed</td>\n",
       "      <td>Unbreakable Kimmy Schmidt</td>\n",
       "      <td>2015</td>\n",
       "    </tr>\n",
       "    <tr>\n",
       "      <th>2</th>\n",
       "      <td>Comedy</td>\n",
       "      <td>Comedy-drama</td>\n",
       "      <td>25–35 min.</td>\n",
       "      <td>2015-05-08</td>\n",
       "      <td>2 seasons, 26 episodes</td>\n",
       "      <td>Renewed</td>\n",
       "      <td>Grace and Frankie</td>\n",
       "      <td>2015</td>\n",
       "    </tr>\n",
       "    <tr>\n",
       "      <th>3</th>\n",
       "      <td>Comedy</td>\n",
       "      <td>Satirical comedy</td>\n",
       "      <td>27–30 min.</td>\n",
       "      <td>2015-07-31</td>\n",
       "      <td>1 season, 8 episodes</td>\n",
       "      <td>Renewed</td>\n",
       "      <td>Wet Hot American Summer: First Day of Camp</td>\n",
       "      <td>2015</td>\n",
       "    </tr>\n",
       "    <tr>\n",
       "      <th>4</th>\n",
       "      <td>Comedy</td>\n",
       "      <td>Comedy-drama</td>\n",
       "      <td>26–33 min.</td>\n",
       "      <td>2015-11-06</td>\n",
       "      <td>1 season, 10 episodes</td>\n",
       "      <td>Renewed</td>\n",
       "      <td>Master of None</td>\n",
       "      <td>2015</td>\n",
       "    </tr>\n",
       "  </tbody>\n",
       "</table>\n",
       "</div>"
      ],
      "text/plain": [
       "  Category             Genre      Length   Premiere                 Seasons  \\\n",
       "0   Comedy   Animated sitcom  25–26 min. 2014-08-22  3 seasons, 36 episodes   \n",
       "1   Comedy            Comedy  23–36 min. 2015-03-06  2 seasons, 26 episodes   \n",
       "2   Comedy      Comedy-drama  25–35 min. 2015-05-08  2 seasons, 26 episodes   \n",
       "3   Comedy  Satirical comedy  27–30 min. 2015-07-31    1 season, 8 episodes   \n",
       "4   Comedy      Comedy-drama  26–33 min. 2015-11-06   1 season, 10 episodes   \n",
       "\n",
       "    Status                                       Title  PremiereYear  \n",
       "0  Renewed                             BoJack Horseman          2014  \n",
       "1  Renewed                   Unbreakable Kimmy Schmidt          2015  \n",
       "2  Renewed                           Grace and Frankie          2015  \n",
       "3  Renewed  Wet Hot American Summer: First Day of Camp          2015  \n",
       "4  Renewed                              Master of None          2015  "
      ]
     },
     "execution_count": 23,
     "metadata": {},
     "output_type": "execute_result"
    }
   ],
   "source": [
    "netflix['PremiereYear'] = netflix['Premiere'].map(lambda x: x.year)\n",
    "netflix.head()"
   ]
  },
  {
   "cell_type": "code",
   "execution_count": 25,
   "metadata": {
    "collapsed": false
   },
   "outputs": [
    {
     "data": {
      "text/plain": [
       "Category     Status               \n",
       "Comedy       Indefinite hiatus[27]     1\n",
       "             Pending                   4\n",
       "             Renewed                  12\n",
       "Documentary  Ended                     1\n",
       "             Pending                   6\n",
       "             Renewed                   3\n",
       "Drama        Ended                     2\n",
       "             Pending                   5\n",
       "             Renewed                  11\n",
       "Kids         Ended                     1\n",
       "             Pending                  22\n",
       "             Renewed                   4\n",
       "dtype: int64"
      ]
     },
     "execution_count": 25,
     "metadata": {},
     "output_type": "execute_result"
    }
   ],
   "source": [
    "netflix.groupby(['Category', 'Status']).size()"
   ]
  },
  {
   "cell_type": "code",
   "execution_count": 27,
   "metadata": {
    "collapsed": false
   },
   "outputs": [
    {
     "data": {
      "text/plain": [
       "Category     Status                 PremiereYear\n",
       "Comedy       Indefinite hiatus[27]  2015             1\n",
       "             Pending                2016             3\n",
       "                                    2017             1\n",
       "             Renewed                2014             1\n",
       "                                    2015             5\n",
       "                                    2016             6\n",
       "Documentary  Ended                  2013             1\n",
       "             Pending                2016             6\n",
       "             Renewed                2015             2\n",
       "                                    2016             1\n",
       "Drama        Ended                  2013             1\n",
       "                                    2014             1\n",
       "             Pending                2015             1\n",
       "                                    2016             4\n",
       "             Renewed                2013             2\n",
       "                                    2015             3\n",
       "                                    2016             5\n",
       "                                    2017             1\n",
       "Kids         Ended                  2015             1\n",
       "             Pending                2013             2\n",
       "                                    2014             2\n",
       "                                    2015             6\n",
       "                                    2016            10\n",
       "                                    2017             2\n",
       "             Renewed                2015             1\n",
       "                                    2016             3\n",
       "dtype: int64"
      ]
     },
     "execution_count": 27,
     "metadata": {},
     "output_type": "execute_result"
    }
   ],
   "source": [
    "netflix.groupby(['Category', 'Status', 'PremiereYear']).size()"
   ]
  },
  {
   "cell_type": "code",
   "execution_count": 28,
   "metadata": {
    "collapsed": false
   },
   "outputs": [
    {
     "data": {
      "text/plain": [
       "PremiereYear  Category   \n",
       "2013          Documentary     1\n",
       "              Drama           3\n",
       "              Kids            2\n",
       "2014          Comedy          1\n",
       "              Drama           1\n",
       "              Kids            2\n",
       "2015          Comedy          6\n",
       "              Documentary     2\n",
       "              Drama           4\n",
       "              Kids            8\n",
       "2016          Comedy          9\n",
       "              Documentary     7\n",
       "              Drama           9\n",
       "              Kids           13\n",
       "2017          Comedy          1\n",
       "              Drama           1\n",
       "              Kids            2\n",
       "dtype: int64"
      ]
     },
     "execution_count": 28,
     "metadata": {},
     "output_type": "execute_result"
    }
   ],
   "source": [
    "netflix.groupby(['PremiereYear', 'Category']).size()"
   ]
  },
  {
   "cell_type": "code",
   "execution_count": null,
   "metadata": {
    "collapsed": true
   },
   "outputs": [],
   "source": []
  }
 ],
 "metadata": {
  "anaconda-cloud": {},
  "kernelspec": {
   "display_name": "Python [conda root]",
   "language": "python",
   "name": "conda-root-py"
  },
  "language_info": {
   "codemirror_mode": {
    "name": "ipython",
    "version": 3
   },
   "file_extension": ".py",
   "mimetype": "text/x-python",
   "name": "python",
   "nbconvert_exporter": "python",
   "pygments_lexer": "ipython3",
   "version": "3.5.2"
  }
 },
 "nbformat": 4,
 "nbformat_minor": 1
}
